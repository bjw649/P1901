{
  "cells": [
    {
      "cell_type": "code",
      "execution_count": 1,
      "metadata": {
        "collapsed": true,
        "pycharm": {
          "is_executing": false
        }
      },
      "outputs": [],
      "source": "import numpy as np\nimport pandas as pd\nimport matplotlib.pyplot as plt\nimport datetime as dt\nimport plotly as ly\nimport pathlib \nimport os\n#In order to show plots in Jupyter notebook use:\n%matplotlib inline\nplt.style.use(\"ggplot\")"
    },
    {
      "cell_type": "markdown",
      "source": "# Start\nThis is Brian\u0027s first test Markdown in Jupyter in PyCharm\nThe test will be plotting Anabaena using plotly",
      "metadata": {
        "pycharm": {
          "metadata": false
        }
      }
    },
    {
      "cell_type": "code",
      "execution_count": 3,
      "outputs": [
        {
          "name": "stdout",
          "text": [
            "F:\\Git\\P1901\\Code\n"
          ],
          "output_type": "stream"
        },
        {
          "data": {
            "text/plain": "        Time  AnaR2  AnaR6  AnaR12  test  Ther_TG_1.0_8.0  UTSR6_TG_0.5_7.0  \\\n0 2009-05-19    0.0    0.0     0.0   NaN         0.018571               NaN   \n1 2009-05-20    NaN    NaN     NaN   NaN         0.003036               NaN   \n2 2009-05-21    NaN    NaN     NaN   NaN         0.002143               NaN   \n3 2009-05-22    NaN    NaN     NaN   NaN        -0.000476               NaN   \n4 2009-05-23    NaN    NaN     NaN   NaN         0.000119               NaN   \n\n   UTSR6_TG_0.5_7.5  UTSR12_TG_0.5_8.5  UTSR12_TG_0.5_9.0  UTSR2_TG_0.5_4.5  \\\n0               NaN                NaN                NaN               NaN   \n1               NaN                NaN                NaN               NaN   \n2               NaN                NaN                NaN               NaN   \n3               NaN                NaN                NaN               NaN   \n4               NaN                NaN                NaN               NaN   \n\n   UTSR2_TG_0.5_5.0  XYLR6_TG_1.0_7.0  XYLR6_TG_2.0_7.0  XYLR9_TG_0.5_10.0  \\\n0               NaN               NaN               NaN                NaN   \n1               NaN               NaN               NaN                NaN   \n2               NaN               NaN               NaN                NaN   \n3               NaN               NaN               NaN                NaN   \n4               NaN               NaN               NaN                NaN   \n\n   XYLR2_TG_0.5_10.0  \n0                NaN  \n1                NaN  \n2                NaN  \n3                NaN  \n4                NaN  ",
            "text/html": "\u003cdiv\u003e\n\u003cstyle scoped\u003e\n    .dataframe tbody tr th:only-of-type {\n        vertical-align: middle;\n    }\n\n    .dataframe tbody tr th {\n        vertical-align: top;\n    }\n\n    .dataframe thead th {\n        text-align: right;\n    }\n\u003c/style\u003e\n\u003ctable border\u003d\"1\" class\u003d\"dataframe\"\u003e\n  \u003cthead\u003e\n    \u003ctr style\u003d\"text-align: right;\"\u003e\n      \u003cth\u003e\u003c/th\u003e\n      \u003cth\u003eTime\u003c/th\u003e\n      \u003cth\u003eAnaR2\u003c/th\u003e\n      \u003cth\u003eAnaR6\u003c/th\u003e\n      \u003cth\u003eAnaR12\u003c/th\u003e\n      \u003cth\u003etest\u003c/th\u003e\n      \u003cth\u003eTher_TG_1.0_8.0\u003c/th\u003e\n      \u003cth\u003eUTSR6_TG_0.5_7.0\u003c/th\u003e\n      \u003cth\u003eUTSR6_TG_0.5_7.5\u003c/th\u003e\n      \u003cth\u003eUTSR12_TG_0.5_8.5\u003c/th\u003e\n      \u003cth\u003eUTSR12_TG_0.5_9.0\u003c/th\u003e\n      \u003cth\u003eUTSR2_TG_0.5_4.5\u003c/th\u003e\n      \u003cth\u003eUTSR2_TG_0.5_5.0\u003c/th\u003e\n      \u003cth\u003eXYLR6_TG_1.0_7.0\u003c/th\u003e\n      \u003cth\u003eXYLR6_TG_2.0_7.0\u003c/th\u003e\n      \u003cth\u003eXYLR9_TG_0.5_10.0\u003c/th\u003e\n      \u003cth\u003eXYLR2_TG_0.5_10.0\u003c/th\u003e\n    \u003c/tr\u003e\n  \u003c/thead\u003e\n  \u003ctbody\u003e\n    \u003ctr\u003e\n      \u003cth\u003e0\u003c/th\u003e\n      \u003ctd\u003e2009-05-19\u003c/td\u003e\n      \u003ctd\u003e0.0\u003c/td\u003e\n      \u003ctd\u003e0.0\u003c/td\u003e\n      \u003ctd\u003e0.0\u003c/td\u003e\n      \u003ctd\u003eNaN\u003c/td\u003e\n      \u003ctd\u003e0.018571\u003c/td\u003e\n      \u003ctd\u003eNaN\u003c/td\u003e\n      \u003ctd\u003eNaN\u003c/td\u003e\n      \u003ctd\u003eNaN\u003c/td\u003e\n      \u003ctd\u003eNaN\u003c/td\u003e\n      \u003ctd\u003eNaN\u003c/td\u003e\n      \u003ctd\u003eNaN\u003c/td\u003e\n      \u003ctd\u003eNaN\u003c/td\u003e\n      \u003ctd\u003eNaN\u003c/td\u003e\n      \u003ctd\u003eNaN\u003c/td\u003e\n      \u003ctd\u003eNaN\u003c/td\u003e\n    \u003c/tr\u003e\n    \u003ctr\u003e\n      \u003cth\u003e1\u003c/th\u003e\n      \u003ctd\u003e2009-05-20\u003c/td\u003e\n      \u003ctd\u003eNaN\u003c/td\u003e\n      \u003ctd\u003eNaN\u003c/td\u003e\n      \u003ctd\u003eNaN\u003c/td\u003e\n      \u003ctd\u003eNaN\u003c/td\u003e\n      \u003ctd\u003e0.003036\u003c/td\u003e\n      \u003ctd\u003eNaN\u003c/td\u003e\n      \u003ctd\u003eNaN\u003c/td\u003e\n      \u003ctd\u003eNaN\u003c/td\u003e\n      \u003ctd\u003eNaN\u003c/td\u003e\n      \u003ctd\u003eNaN\u003c/td\u003e\n      \u003ctd\u003eNaN\u003c/td\u003e\n      \u003ctd\u003eNaN\u003c/td\u003e\n      \u003ctd\u003eNaN\u003c/td\u003e\n      \u003ctd\u003eNaN\u003c/td\u003e\n      \u003ctd\u003eNaN\u003c/td\u003e\n    \u003c/tr\u003e\n    \u003ctr\u003e\n      \u003cth\u003e2\u003c/th\u003e\n      \u003ctd\u003e2009-05-21\u003c/td\u003e\n      \u003ctd\u003eNaN\u003c/td\u003e\n      \u003ctd\u003eNaN\u003c/td\u003e\n      \u003ctd\u003eNaN\u003c/td\u003e\n      \u003ctd\u003eNaN\u003c/td\u003e\n      \u003ctd\u003e0.002143\u003c/td\u003e\n      \u003ctd\u003eNaN\u003c/td\u003e\n      \u003ctd\u003eNaN\u003c/td\u003e\n      \u003ctd\u003eNaN\u003c/td\u003e\n      \u003ctd\u003eNaN\u003c/td\u003e\n      \u003ctd\u003eNaN\u003c/td\u003e\n      \u003ctd\u003eNaN\u003c/td\u003e\n      \u003ctd\u003eNaN\u003c/td\u003e\n      \u003ctd\u003eNaN\u003c/td\u003e\n      \u003ctd\u003eNaN\u003c/td\u003e\n      \u003ctd\u003eNaN\u003c/td\u003e\n    \u003c/tr\u003e\n    \u003ctr\u003e\n      \u003cth\u003e3\u003c/th\u003e\n      \u003ctd\u003e2009-05-22\u003c/td\u003e\n      \u003ctd\u003eNaN\u003c/td\u003e\n      \u003ctd\u003eNaN\u003c/td\u003e\n      \u003ctd\u003eNaN\u003c/td\u003e\n      \u003ctd\u003eNaN\u003c/td\u003e\n      \u003ctd\u003e-0.000476\u003c/td\u003e\n      \u003ctd\u003eNaN\u003c/td\u003e\n      \u003ctd\u003eNaN\u003c/td\u003e\n      \u003ctd\u003eNaN\u003c/td\u003e\n      \u003ctd\u003eNaN\u003c/td\u003e\n      \u003ctd\u003eNaN\u003c/td\u003e\n      \u003ctd\u003eNaN\u003c/td\u003e\n      \u003ctd\u003eNaN\u003c/td\u003e\n      \u003ctd\u003eNaN\u003c/td\u003e\n      \u003ctd\u003eNaN\u003c/td\u003e\n      \u003ctd\u003eNaN\u003c/td\u003e\n    \u003c/tr\u003e\n    \u003ctr\u003e\n      \u003cth\u003e4\u003c/th\u003e\n      \u003ctd\u003e2009-05-23\u003c/td\u003e\n      \u003ctd\u003eNaN\u003c/td\u003e\n      \u003ctd\u003eNaN\u003c/td\u003e\n      \u003ctd\u003eNaN\u003c/td\u003e\n      \u003ctd\u003eNaN\u003c/td\u003e\n      \u003ctd\u003e0.000119\u003c/td\u003e\n      \u003ctd\u003eNaN\u003c/td\u003e\n      \u003ctd\u003eNaN\u003c/td\u003e\n      \u003ctd\u003eNaN\u003c/td\u003e\n      \u003ctd\u003eNaN\u003c/td\u003e\n      \u003ctd\u003eNaN\u003c/td\u003e\n      \u003ctd\u003eNaN\u003c/td\u003e\n      \u003ctd\u003eNaN\u003c/td\u003e\n      \u003ctd\u003eNaN\u003c/td\u003e\n      \u003ctd\u003eNaN\u003c/td\u003e\n      \u003ctd\u003eNaN\u003c/td\u003e\n    \u003c/tr\u003e\n  \u003c/tbody\u003e\n\u003c/table\u003e\n\u003c/div\u003e"
          },
          "metadata": {},
          "output_type": "execute_result",
          "execution_count": 3
        }
      ],
      "source": "print(os.getcwd())\nfp \u003d \"../Data/CombineData.csv\"\ndf \u003d pd.read_csv(fp)\ndf[\"Time\"] \u003d pd.to_datetime(df[\"Time\"], errors\u003d\u0027coerce\u0027, dayfirst\u003dTrue )\ndf.head()",
      "metadata": {
        "pycharm": {
          "metadata": false,
          "name": "#%%\n",
          "is_executing": false
        }
      }
    },
    {
      "cell_type": "markdown",
      "source": "Head looks OK so far...Let\u0027s drop some f the unnecessary columns\n",
      "metadata": {
        "pycharm": {
          "metadata": false
        }
      }
    },
    {
      "cell_type": "code",
      "execution_count": 4,
      "outputs": [
        {
          "data": {
            "text/plain": "        Time  AnaR2  AnaR6  AnaR12  test  Ther_TG_1.0_8.0  UTSR6_TG_0.5_7.5  \\\n0 2009-05-19    0.0    0.0     0.0   NaN         0.018571               NaN   \n1 2009-05-20    NaN    NaN     NaN   NaN         0.003036               NaN   \n2 2009-05-21    NaN    NaN     NaN   NaN         0.002143               NaN   \n3 2009-05-22    NaN    NaN     NaN   NaN        -0.000476               NaN   \n4 2009-05-23    NaN    NaN     NaN   NaN         0.000119               NaN   \n\n   UTSR12_TG_0.5_9.0  UTSR2_TG_0.5_5.0  XYLR6_TG_1.0_7.0  XYLR9_TG_0.5_10.0  \\\n0                NaN               NaN               NaN                NaN   \n1                NaN               NaN               NaN                NaN   \n2                NaN               NaN               NaN                NaN   \n3                NaN               NaN               NaN                NaN   \n4                NaN               NaN               NaN                NaN   \n\n   XYLR2_TG_0.5_10.0  \n0                NaN  \n1                NaN  \n2                NaN  \n3                NaN  \n4                NaN  ",
            "text/html": "\u003cdiv\u003e\n\u003cstyle scoped\u003e\n    .dataframe tbody tr th:only-of-type {\n        vertical-align: middle;\n    }\n\n    .dataframe tbody tr th {\n        vertical-align: top;\n    }\n\n    .dataframe thead th {\n        text-align: right;\n    }\n\u003c/style\u003e\n\u003ctable border\u003d\"1\" class\u003d\"dataframe\"\u003e\n  \u003cthead\u003e\n    \u003ctr style\u003d\"text-align: right;\"\u003e\n      \u003cth\u003e\u003c/th\u003e\n      \u003cth\u003eTime\u003c/th\u003e\n      \u003cth\u003eAnaR2\u003c/th\u003e\n      \u003cth\u003eAnaR6\u003c/th\u003e\n      \u003cth\u003eAnaR12\u003c/th\u003e\n      \u003cth\u003etest\u003c/th\u003e\n      \u003cth\u003eTher_TG_1.0_8.0\u003c/th\u003e\n      \u003cth\u003eUTSR6_TG_0.5_7.5\u003c/th\u003e\n      \u003cth\u003eUTSR12_TG_0.5_9.0\u003c/th\u003e\n      \u003cth\u003eUTSR2_TG_0.5_5.0\u003c/th\u003e\n      \u003cth\u003eXYLR6_TG_1.0_7.0\u003c/th\u003e\n      \u003cth\u003eXYLR9_TG_0.5_10.0\u003c/th\u003e\n      \u003cth\u003eXYLR2_TG_0.5_10.0\u003c/th\u003e\n    \u003c/tr\u003e\n  \u003c/thead\u003e\n  \u003ctbody\u003e\n    \u003ctr\u003e\n      \u003cth\u003e0\u003c/th\u003e\n      \u003ctd\u003e2009-05-19\u003c/td\u003e\n      \u003ctd\u003e0.0\u003c/td\u003e\n      \u003ctd\u003e0.0\u003c/td\u003e\n      \u003ctd\u003e0.0\u003c/td\u003e\n      \u003ctd\u003eNaN\u003c/td\u003e\n      \u003ctd\u003e0.018571\u003c/td\u003e\n      \u003ctd\u003eNaN\u003c/td\u003e\n      \u003ctd\u003eNaN\u003c/td\u003e\n      \u003ctd\u003eNaN\u003c/td\u003e\n      \u003ctd\u003eNaN\u003c/td\u003e\n      \u003ctd\u003eNaN\u003c/td\u003e\n      \u003ctd\u003eNaN\u003c/td\u003e\n    \u003c/tr\u003e\n    \u003ctr\u003e\n      \u003cth\u003e1\u003c/th\u003e\n      \u003ctd\u003e2009-05-20\u003c/td\u003e\n      \u003ctd\u003eNaN\u003c/td\u003e\n      \u003ctd\u003eNaN\u003c/td\u003e\n      \u003ctd\u003eNaN\u003c/td\u003e\n      \u003ctd\u003eNaN\u003c/td\u003e\n      \u003ctd\u003e0.003036\u003c/td\u003e\n      \u003ctd\u003eNaN\u003c/td\u003e\n      \u003ctd\u003eNaN\u003c/td\u003e\n      \u003ctd\u003eNaN\u003c/td\u003e\n      \u003ctd\u003eNaN\u003c/td\u003e\n      \u003ctd\u003eNaN\u003c/td\u003e\n      \u003ctd\u003eNaN\u003c/td\u003e\n    \u003c/tr\u003e\n    \u003ctr\u003e\n      \u003cth\u003e2\u003c/th\u003e\n      \u003ctd\u003e2009-05-21\u003c/td\u003e\n      \u003ctd\u003eNaN\u003c/td\u003e\n      \u003ctd\u003eNaN\u003c/td\u003e\n      \u003ctd\u003eNaN\u003c/td\u003e\n      \u003ctd\u003eNaN\u003c/td\u003e\n      \u003ctd\u003e0.002143\u003c/td\u003e\n      \u003ctd\u003eNaN\u003c/td\u003e\n      \u003ctd\u003eNaN\u003c/td\u003e\n      \u003ctd\u003eNaN\u003c/td\u003e\n      \u003ctd\u003eNaN\u003c/td\u003e\n      \u003ctd\u003eNaN\u003c/td\u003e\n      \u003ctd\u003eNaN\u003c/td\u003e\n    \u003c/tr\u003e\n    \u003ctr\u003e\n      \u003cth\u003e3\u003c/th\u003e\n      \u003ctd\u003e2009-05-22\u003c/td\u003e\n      \u003ctd\u003eNaN\u003c/td\u003e\n      \u003ctd\u003eNaN\u003c/td\u003e\n      \u003ctd\u003eNaN\u003c/td\u003e\n      \u003ctd\u003eNaN\u003c/td\u003e\n      \u003ctd\u003e-0.000476\u003c/td\u003e\n      \u003ctd\u003eNaN\u003c/td\u003e\n      \u003ctd\u003eNaN\u003c/td\u003e\n      \u003ctd\u003eNaN\u003c/td\u003e\n      \u003ctd\u003eNaN\u003c/td\u003e\n      \u003ctd\u003eNaN\u003c/td\u003e\n      \u003ctd\u003eNaN\u003c/td\u003e\n    \u003c/tr\u003e\n    \u003ctr\u003e\n      \u003cth\u003e4\u003c/th\u003e\n      \u003ctd\u003e2009-05-23\u003c/td\u003e\n      \u003ctd\u003eNaN\u003c/td\u003e\n      \u003ctd\u003eNaN\u003c/td\u003e\n      \u003ctd\u003eNaN\u003c/td\u003e\n      \u003ctd\u003eNaN\u003c/td\u003e\n      \u003ctd\u003e0.000119\u003c/td\u003e\n      \u003ctd\u003eNaN\u003c/td\u003e\n      \u003ctd\u003eNaN\u003c/td\u003e\n      \u003ctd\u003eNaN\u003c/td\u003e\n      \u003ctd\u003eNaN\u003c/td\u003e\n      \u003ctd\u003eNaN\u003c/td\u003e\n      \u003ctd\u003eNaN\u003c/td\u003e\n    \u003c/tr\u003e\n  \u003c/tbody\u003e\n\u003c/table\u003e\n\u003c/div\u003e"
          },
          "metadata": {},
          "output_type": "execute_result",
          "execution_count": 4
        }
      ],
      "source": "df.drop(columns\u003d[\u0027UTSR6_TG_0.5_7.0\u0027,\u0027UTSR12_TG_0.5_8.5\u0027,\u0027UTSR2_TG_0.5_4.5\u0027,\u0027XYLR6_TG_2.0_7.0\u0027],inplace\u003dTrue)\n#df.drop(columns\u003d[\"XYLR6_TG_2.0_7.0\"],inplace\u003dTrue)\ndf.head()\n",
      "metadata": {
        "pycharm": {
          "metadata": false,
          "name": "#%%\n",
          "is_executing": false
        }
      }
    },
    {
      "cell_type": "markdown",
      "source": "OK . Now Let\u0027s just bang in Gaff\u0027s stuff and see where it\u0027s going?..",
      "metadata": {
        "pycharm": {
          "metadata": false
        }
      }
    },
    {
      "cell_type": "code",
      "execution_count": 5,
      "outputs": [
        {
          "data": {
            "text/plain": "544"
          },
          "metadata": {},
          "output_type": "execute_result",
          "execution_count": 5
        }
      ],
      "source": "# Thermistor Data\nther \u003d df[\"UTSR6_TG_0.5_7.5\"].count()\nther\n",
      "metadata": {
        "pycharm": {
          "metadata": false,
          "name": "#%%\n",
          "is_executing": false
        }
      }
    },
    {
      "cell_type": "code",
      "execution_count": 6,
      "outputs": [
        {
          "data": {
            "text/plain": "        Time  AnaR2  AnaR6  AnaR12  test  Ther_TG_1.0_8.0  UTSR6_TG_0.5_7.5  \\\n0 2009-05-19    0.0    0.0     0.0   NaN         0.018571               NaN   \n1 2009-05-20    NaN    NaN     NaN   NaN         0.003036               NaN   \n2 2009-05-21    NaN    NaN     NaN   NaN         0.002143               NaN   \n3 2009-05-22    NaN    NaN     NaN   NaN        -0.000476               NaN   \n4 2009-05-23    NaN    NaN     NaN   NaN         0.000119               NaN   \n\n   UTSR12_TG_0.5_9.0  UTSR2_TG_0.5_5.0  XYLR6_TG_1.0_7.0  XYLR9_TG_0.5_10.0  \\\n0                NaN               NaN               NaN                NaN   \n1                NaN               NaN               NaN                NaN   \n2                NaN               NaN               NaN                NaN   \n3                NaN               NaN               NaN                NaN   \n4                NaN               NaN               NaN                NaN   \n\n   XYLR2_TG_0.5_10.0  \n0                NaN  \n1                NaN  \n2                NaN  \n3                NaN  \n4                NaN  ",
            "text/html": "\u003cdiv\u003e\n\u003cstyle scoped\u003e\n    .dataframe tbody tr th:only-of-type {\n        vertical-align: middle;\n    }\n\n    .dataframe tbody tr th {\n        vertical-align: top;\n    }\n\n    .dataframe thead th {\n        text-align: right;\n    }\n\u003c/style\u003e\n\u003ctable border\u003d\"1\" class\u003d\"dataframe\"\u003e\n  \u003cthead\u003e\n    \u003ctr style\u003d\"text-align: right;\"\u003e\n      \u003cth\u003e\u003c/th\u003e\n      \u003cth\u003eTime\u003c/th\u003e\n      \u003cth\u003eAnaR2\u003c/th\u003e\n      \u003cth\u003eAnaR6\u003c/th\u003e\n      \u003cth\u003eAnaR12\u003c/th\u003e\n      \u003cth\u003etest\u003c/th\u003e\n      \u003cth\u003eTher_TG_1.0_8.0\u003c/th\u003e\n      \u003cth\u003eUTSR6_TG_0.5_7.5\u003c/th\u003e\n      \u003cth\u003eUTSR12_TG_0.5_9.0\u003c/th\u003e\n      \u003cth\u003eUTSR2_TG_0.5_5.0\u003c/th\u003e\n      \u003cth\u003eXYLR6_TG_1.0_7.0\u003c/th\u003e\n      \u003cth\u003eXYLR9_TG_0.5_10.0\u003c/th\u003e\n      \u003cth\u003eXYLR2_TG_0.5_10.0\u003c/th\u003e\n    \u003c/tr\u003e\n  \u003c/thead\u003e\n  \u003ctbody\u003e\n    \u003ctr\u003e\n      \u003cth\u003e0\u003c/th\u003e\n      \u003ctd\u003e2009-05-19\u003c/td\u003e\n      \u003ctd\u003e0.0\u003c/td\u003e\n      \u003ctd\u003e0.0\u003c/td\u003e\n      \u003ctd\u003e0.0\u003c/td\u003e\n      \u003ctd\u003eNaN\u003c/td\u003e\n      \u003ctd\u003e0.018571\u003c/td\u003e\n      \u003ctd\u003eNaN\u003c/td\u003e\n      \u003ctd\u003eNaN\u003c/td\u003e\n      \u003ctd\u003eNaN\u003c/td\u003e\n      \u003ctd\u003eNaN\u003c/td\u003e\n      \u003ctd\u003eNaN\u003c/td\u003e\n      \u003ctd\u003eNaN\u003c/td\u003e\n    \u003c/tr\u003e\n    \u003ctr\u003e\n      \u003cth\u003e1\u003c/th\u003e\n      \u003ctd\u003e2009-05-20\u003c/td\u003e\n      \u003ctd\u003eNaN\u003c/td\u003e\n      \u003ctd\u003eNaN\u003c/td\u003e\n      \u003ctd\u003eNaN\u003c/td\u003e\n      \u003ctd\u003eNaN\u003c/td\u003e\n      \u003ctd\u003e0.003036\u003c/td\u003e\n      \u003ctd\u003eNaN\u003c/td\u003e\n      \u003ctd\u003eNaN\u003c/td\u003e\n      \u003ctd\u003eNaN\u003c/td\u003e\n      \u003ctd\u003eNaN\u003c/td\u003e\n      \u003ctd\u003eNaN\u003c/td\u003e\n      \u003ctd\u003eNaN\u003c/td\u003e\n    \u003c/tr\u003e\n    \u003ctr\u003e\n      \u003cth\u003e2\u003c/th\u003e\n      \u003ctd\u003e2009-05-21\u003c/td\u003e\n      \u003ctd\u003eNaN\u003c/td\u003e\n      \u003ctd\u003eNaN\u003c/td\u003e\n      \u003ctd\u003eNaN\u003c/td\u003e\n      \u003ctd\u003eNaN\u003c/td\u003e\n      \u003ctd\u003e0.002143\u003c/td\u003e\n      \u003ctd\u003eNaN\u003c/td\u003e\n      \u003ctd\u003eNaN\u003c/td\u003e\n      \u003ctd\u003eNaN\u003c/td\u003e\n      \u003ctd\u003eNaN\u003c/td\u003e\n      \u003ctd\u003eNaN\u003c/td\u003e\n      \u003ctd\u003eNaN\u003c/td\u003e\n    \u003c/tr\u003e\n    \u003ctr\u003e\n      \u003cth\u003e3\u003c/th\u003e\n      \u003ctd\u003e2009-05-22\u003c/td\u003e\n      \u003ctd\u003eNaN\u003c/td\u003e\n      \u003ctd\u003eNaN\u003c/td\u003e\n      \u003ctd\u003eNaN\u003c/td\u003e\n      \u003ctd\u003eNaN\u003c/td\u003e\n      \u003ctd\u003e-0.000476\u003c/td\u003e\n      \u003ctd\u003eNaN\u003c/td\u003e\n      \u003ctd\u003eNaN\u003c/td\u003e\n      \u003ctd\u003eNaN\u003c/td\u003e\n      \u003ctd\u003eNaN\u003c/td\u003e\n      \u003ctd\u003eNaN\u003c/td\u003e\n      \u003ctd\u003eNaN\u003c/td\u003e\n    \u003c/tr\u003e\n    \u003ctr\u003e\n      \u003cth\u003e4\u003c/th\u003e\n      \u003ctd\u003e2009-05-23\u003c/td\u003e\n      \u003ctd\u003eNaN\u003c/td\u003e\n      \u003ctd\u003eNaN\u003c/td\u003e\n      \u003ctd\u003eNaN\u003c/td\u003e\n      \u003ctd\u003eNaN\u003c/td\u003e\n      \u003ctd\u003e0.000119\u003c/td\u003e\n      \u003ctd\u003eNaN\u003c/td\u003e\n      \u003ctd\u003eNaN\u003c/td\u003e\n      \u003ctd\u003eNaN\u003c/td\u003e\n      \u003ctd\u003eNaN\u003c/td\u003e\n      \u003ctd\u003eNaN\u003c/td\u003e\n      \u003ctd\u003eNaN\u003c/td\u003e\n    \u003c/tr\u003e\n  \u003c/tbody\u003e\n\u003c/table\u003e\n\u003c/div\u003e"
          },
          "metadata": {},
          "output_type": "execute_result",
          "execution_count": 6
        }
      ],
      "source": "\ndf.head()",
      "metadata": {
        "pycharm": {
          "metadata": false,
          "name": "#%%\n",
          "is_executing": false
        }
      }
    },
    {
      "cell_type": "code",
      "execution_count": 7,
      "outputs": [
        {
          "data": {
            "text/plain": "544"
          },
          "metadata": {},
          "output_type": "execute_result",
          "execution_count": 7
        }
      ],
      "source": "test \u003d df[\u0027UTSR2_TG_0.5_5.0\u0027].count()\ntest",
      "metadata": {
        "pycharm": {
          "metadata": false,
          "name": "#%%\n",
          "is_executing": false
        }
      }
    },
    {
      "cell_type": "code",
      "execution_count": 8,
      "outputs": [
        {
          "data": {
            "text/plain": "Time                 datetime64[ns]\nAnaR2                       float64\nAnaR6                       float64\nAnaR12                      float64\ntest                        float64\nTher_TG_1.0_8.0             float64\nUTSR6_TG_0.5_7.5            float64\nUTSR12_TG_0.5_9.0           float64\nUTSR2_TG_0.5_5.0            float64\nXYLR6_TG_1.0_7.0            float64\nXYLR9_TG_0.5_10.0           float64\nXYLR2_TG_0.5_10.0           float64\ndtype: object"
          },
          "metadata": {},
          "output_type": "execute_result",
          "execution_count": 8
        }
      ],
      "source": "df.dtypes",
      "metadata": {
        "pycharm": {
          "metadata": false,
          "name": "#%%\n",
          "is_executing": false
        }
      }
    },
    {
      "cell_type": "code",
      "execution_count": null,
      "outputs": [],
      "source": "df.head()\n##",
      "metadata": {
        "pycharm": {
          "metadata": false,
          "name": "#%%\n"
        }
      }
    },
    {
      "cell_type": "markdown",
      "source": "Now lets add three new variables to the df -  the logs of the Anabaena concentrations\n",
      "metadata": {
        "pycharm": {
          "metadata": false
        }
      }
    },
    {
      "cell_type": "code",
      "execution_count": 11,
      "outputs": [
        {
          "name": "stdout",
          "text": [
            "Index([\u0027Time\u0027, \u0027AnaR2\u0027, \u0027AnaR6\u0027, \u0027AnaR12\u0027, \u0027test\u0027, \u0027Ther_TG_1.0_8.0\u0027,\n       \u0027UTSR6_TG_0.5_7.5\u0027, \u0027UTSR12_TG_0.5_9.0\u0027, \u0027UTSR2_TG_0.5_5.0\u0027,\n       \u0027XYLR6_TG_1.0_7.0\u0027, \u0027XYLR9_TG_0.5_10.0\u0027, \u0027XYLR2_TG_0.5_10.0\u0027,\n       \u0027AnaR2_log10\u0027, \u0027AnaR6_log10\u0027, \u0027AnaR12_log10\u0027],\n      dtype\u003d\u0027object\u0027)\n"
          ],
          "output_type": "stream"
        },
        {
          "name": "stderr",
          "text": [
            "C:\\Users\\bjw64\\Anaconda3\\lib\\site-packages\\ipykernel_launcher.py:1: RuntimeWarning:\n\ndivide by zero encountered in log10\n\nC:\\Users\\bjw64\\Anaconda3\\lib\\site-packages\\ipykernel_launcher.py:2: RuntimeWarning:\n\ndivide by zero encountered in log10\n\nC:\\Users\\bjw64\\Anaconda3\\lib\\site-packages\\ipykernel_launcher.py:3: RuntimeWarning:\n\ndivide by zero encountered in log10\n\n"
          ],
          "output_type": "stream"
        }
      ],
      "source": "df[\"AnaR2_log10\"] \u003d np.log10(df[\"AnaR2\"])\ndf[\"AnaR6_log10\"] \u003d np.log10(df[\"AnaR6\"])\ndf[\"AnaR12_log10\"] \u003d np.log10(df[\"AnaR12\"])\ndf.head()\nprint(df.columns)\n\n",
      "metadata": {
        "pycharm": {
          "metadata": false,
          "name": "#%%\n",
          "is_executing": false
        }
      }
    },
    {
      "cell_type": "markdown",
      "source": "Now we\u0027re ready to plot some basic stuff\n\n",
      "metadata": {
        "pycharm": {
          "metadata": false
        }
      }
    }
  ],
  "metadata": {
    "language_info": {
      "codemirror_mode": {
        "name": "ipython",
        "version": 2
      },
      "file_extension": ".py",
      "mimetype": "text/x-python",
      "name": "python",
      "nbconvert_exporter": "python",
      "pygments_lexer": "ipython2",
      "version": "2.7.6"
    },
    "kernelspec": {
      "name": "python3",
      "language": "python",
      "display_name": "Python 3"
    }
  },
  "nbformat": 4,
  "nbformat_minor": 0
}